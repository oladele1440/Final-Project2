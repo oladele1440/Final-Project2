{
 "cells": [
  {
   "cell_type": "code",
   "execution_count": 1,
   "metadata": {},
   "outputs": [],
   "source": [
    "%matplotlib inline\n",
    "import matplotlib.pyplot as plt\n",
    "import numpy as np\n",
    "import pandas as pd"
   ]
  },
  {
   "cell_type": "code",
   "execution_count": 75,
   "metadata": {},
   "outputs": [
    {
     "data": {
      "text/html": [
       "<div>\n",
       "<style>\n",
       "    .dataframe thead tr:only-child th {\n",
       "        text-align: right;\n",
       "    }\n",
       "\n",
       "    .dataframe thead th {\n",
       "        text-align: left;\n",
       "    }\n",
       "\n",
       "    .dataframe tbody tr th {\n",
       "        vertical-align: top;\n",
       "    }\n",
       "</style>\n",
       "<table border=\"1\" class=\"dataframe\">\n",
       "  <thead>\n",
       "    <tr style=\"text-align: right;\">\n",
       "      <th></th>\n",
       "      <th>State/Province</th>\n",
       "      <th>Postcode</th>\n",
       "      <th>Starbucks Count</th>\n",
       "      <th>City</th>\n",
       "      <th>Country</th>\n",
       "      <th>Latitude</th>\n",
       "      <th>Longitude</th>\n",
       "      <th>Population</th>\n",
       "      <th>Median Age</th>\n",
       "      <th>Household Income</th>\n",
       "      <th>Per Capita Income</th>\n",
       "      <th>Cafe Count</th>\n",
       "    </tr>\n",
       "  </thead>\n",
       "  <tbody>\n",
       "    <tr>\n",
       "      <th>0</th>\n",
       "      <td>AK</td>\n",
       "      <td>99501.0</td>\n",
       "      <td>2</td>\n",
       "      <td>Anchorage</td>\n",
       "      <td>US</td>\n",
       "      <td>61.22</td>\n",
       "      <td>-149.89</td>\n",
       "      <td>17.0</td>\n",
       "      <td>38.3</td>\n",
       "      <td>54579.0</td>\n",
       "      <td>39690.0</td>\n",
       "      <td>0</td>\n",
       "    </tr>\n",
       "    <tr>\n",
       "      <th>1</th>\n",
       "      <td>AK</td>\n",
       "      <td>99502.0</td>\n",
       "      <td>4</td>\n",
       "      <td>Anchorage</td>\n",
       "      <td>US</td>\n",
       "      <td>61.18</td>\n",
       "      <td>-149.95</td>\n",
       "      <td>24.0</td>\n",
       "      <td>32.8</td>\n",
       "      <td>87250.0</td>\n",
       "      <td>39021.0</td>\n",
       "      <td>0</td>\n",
       "    </tr>\n",
       "    <tr>\n",
       "      <th>2</th>\n",
       "      <td>AK</td>\n",
       "      <td>99503.0</td>\n",
       "      <td>1</td>\n",
       "      <td>Anchorage</td>\n",
       "      <td>US</td>\n",
       "      <td>61.18</td>\n",
       "      <td>-149.88</td>\n",
       "      <td>14.0</td>\n",
       "      <td>34.0</td>\n",
       "      <td>46819.0</td>\n",
       "      <td>27693.0</td>\n",
       "      <td>0</td>\n",
       "    </tr>\n",
       "    <tr>\n",
       "      <th>3</th>\n",
       "      <td>AK</td>\n",
       "      <td>99504.0</td>\n",
       "      <td>5</td>\n",
       "      <td>Anchorage</td>\n",
       "      <td>US</td>\n",
       "      <td>61.23</td>\n",
       "      <td>-149.74</td>\n",
       "      <td>42.0</td>\n",
       "      <td>31.3</td>\n",
       "      <td>77132.0</td>\n",
       "      <td>31811.0</td>\n",
       "      <td>0</td>\n",
       "    </tr>\n",
       "    <tr>\n",
       "      <th>4</th>\n",
       "      <td>AK</td>\n",
       "      <td>99505.0</td>\n",
       "      <td>1</td>\n",
       "      <td>Fort Richardson</td>\n",
       "      <td>US</td>\n",
       "      <td>61.26</td>\n",
       "      <td>-149.68</td>\n",
       "      <td>6.0</td>\n",
       "      <td>21.6</td>\n",
       "      <td>51582.0</td>\n",
       "      <td>19267.0</td>\n",
       "      <td>0</td>\n",
       "    </tr>\n",
       "  </tbody>\n",
       "</table>\n",
       "</div>"
      ],
      "text/plain": [
       "  State/Province  Postcode  Starbucks Count             City Country  \\\n",
       "0             AK   99501.0                2        Anchorage      US   \n",
       "1             AK   99502.0                4        Anchorage      US   \n",
       "2             AK   99503.0                1        Anchorage      US   \n",
       "3             AK   99504.0                5        Anchorage      US   \n",
       "4             AK   99505.0                1  Fort Richardson      US   \n",
       "\n",
       "   Latitude  Longitude  Population  Median Age  Household Income  \\\n",
       "0     61.22    -149.89        17.0        38.3           54579.0   \n",
       "1     61.18    -149.95        24.0        32.8           87250.0   \n",
       "2     61.18    -149.88        14.0        34.0           46819.0   \n",
       "3     61.23    -149.74        42.0        31.3           77132.0   \n",
       "4     61.26    -149.68         6.0        21.6           51582.0   \n",
       "\n",
       "   Per Capita Income  Cafe Count  \n",
       "0            39690.0           0  \n",
       "1            39021.0           0  \n",
       "2            27693.0           0  \n",
       "3            31811.0           0  \n",
       "4            19267.0           0  "
      ]
     },
     "execution_count": 75,
     "metadata": {},
     "output_type": "execute_result"
    }
   ],
   "source": [
    "# Read the csv file into a pandas DataFrame\n",
    "\n",
    "starbucks_census = pd.read_csv('Datasets/starbucks_vs_cafe_count.csv')\n",
    "starbucks_census.describe()\n",
    "starbucks_census.head()"
   ]
  },
  {
   "cell_type": "code",
   "execution_count": 68,
   "metadata": {},
   "outputs": [
    {
     "data": {
      "text/html": [
       "<div>\n",
       "<style>\n",
       "    .dataframe thead tr:only-child th {\n",
       "        text-align: right;\n",
       "    }\n",
       "\n",
       "    .dataframe thead th {\n",
       "        text-align: left;\n",
       "    }\n",
       "\n",
       "    .dataframe tbody tr th {\n",
       "        vertical-align: top;\n",
       "    }\n",
       "</style>\n",
       "<table border=\"1\" class=\"dataframe\">\n",
       "  <thead>\n",
       "    <tr style=\"text-align: right;\">\n",
       "      <th></th>\n",
       "      <th>Starbucks Count</th>\n",
       "      <th>Household Income</th>\n",
       "      <th>Population</th>\n",
       "      <th>Per Capita Income</th>\n",
       "    </tr>\n",
       "  </thead>\n",
       "  <tbody>\n",
       "    <tr>\n",
       "      <th>0</th>\n",
       "      <td>2</td>\n",
       "      <td>54579.0</td>\n",
       "      <td>17.0</td>\n",
       "      <td>39690.0</td>\n",
       "    </tr>\n",
       "    <tr>\n",
       "      <th>1</th>\n",
       "      <td>4</td>\n",
       "      <td>87250.0</td>\n",
       "      <td>24.0</td>\n",
       "      <td>39021.0</td>\n",
       "    </tr>\n",
       "    <tr>\n",
       "      <th>2</th>\n",
       "      <td>1</td>\n",
       "      <td>46819.0</td>\n",
       "      <td>14.0</td>\n",
       "      <td>27693.0</td>\n",
       "    </tr>\n",
       "    <tr>\n",
       "      <th>3</th>\n",
       "      <td>5</td>\n",
       "      <td>77132.0</td>\n",
       "      <td>42.0</td>\n",
       "      <td>31811.0</td>\n",
       "    </tr>\n",
       "    <tr>\n",
       "      <th>4</th>\n",
       "      <td>1</td>\n",
       "      <td>51582.0</td>\n",
       "      <td>6.0</td>\n",
       "      <td>19267.0</td>\n",
       "    </tr>\n",
       "  </tbody>\n",
       "</table>\n",
       "</div>"
      ],
      "text/plain": [
       "   Starbucks Count  Household Income  Population  Per Capita Income\n",
       "0                2           54579.0        17.0            39690.0\n",
       "1                4           87250.0        24.0            39021.0\n",
       "2                1           46819.0        14.0            27693.0\n",
       "3                5           77132.0        42.0            31811.0\n",
       "4                1           51582.0         6.0            19267.0"
      ]
     },
     "execution_count": 68,
     "metadata": {},
     "output_type": "execute_result"
    }
   ],
   "source": [
    "features = starbucks_census[['Starbucks Count', 'Household Income','Population', 'Per Capita Income']]\n",
    "features.head()"
   ]
  },
  {
   "cell_type": "code",
   "execution_count": 61,
   "metadata": {},
   "outputs": [
    {
     "name": "stdout",
     "output_type": "stream",
     "text": [
      "Shape:  (6047, 1) (6047, 1)\n"
     ]
    }
   ],
   "source": [
    "# Assign the data to X and y\n",
    "# Note: Sklearn requires a 7 x 1 array of values\n",
    "# so we use reshape to create this\n",
    "\n",
    "X = starbucks_census['Household Income'].values.reshape(-1, 1)\n",
    "y = starbucks_census['Starbucks Count'].values.reshape(-1, 1)\n",
    "\n",
    "\n",
    "print(\"Shape: \", X.shape, y.shape)"
   ]
  },
  {
   "cell_type": "code",
   "execution_count": null,
   "metadata": {},
   "outputs": [],
   "source": []
  },
  {
   "cell_type": "code",
   "execution_count": 42,
   "metadata": {},
   "outputs": [
    {
     "data": {
      "text/plain": [
       "array([], dtype=float64)"
      ]
     },
     "execution_count": 42,
     "metadata": {},
     "output_type": "execute_result"
    }
   ],
   "source": [
    "missing_values = X==np.NAN\n",
    "X[missing_values==True]"
   ]
  },
  {
   "cell_type": "code",
   "execution_count": 69,
   "metadata": {},
   "outputs": [
    {
     "data": {
      "text/plain": [
       "array([[ 54579.],\n",
       "       [ 87250.],\n",
       "       [ 46819.],\n",
       "       ..., \n",
       "       [ 54814.],\n",
       "       [ 67698.],\n",
       "       [ 74942.]])"
      ]
     },
     "execution_count": 69,
     "metadata": {},
     "output_type": "execute_result"
    }
   ],
   "source": [
    "X"
   ]
  },
  {
   "cell_type": "code",
   "execution_count": 70,
   "metadata": {},
   "outputs": [
    {
     "name": "stdout",
     "output_type": "stream",
     "text": [
      "                   Postcode  Starbucks Count  Latitude  Longitude  Population  \\\n",
      "Postcode           1.000000         0.199589 -0.050547  -0.889009    0.117975   \n",
      "Starbucks Count    0.199589         1.000000 -0.032621  -0.244765    0.275425   \n",
      "Latitude          -0.050547        -0.032621  1.000000   0.043911   -0.184661   \n",
      "Longitude         -0.889009        -0.244765  0.043911   1.000000   -0.189478   \n",
      "Population         0.117975         0.275425 -0.184661  -0.189478    1.000000   \n",
      "Median Age        -0.008803         0.066498 -0.088955  -0.108824    0.204840   \n",
      "Household Income  -0.022921         0.187418  0.015296  -0.085654    0.195212   \n",
      "Per Capita Income -0.056634         0.266557 -0.000089  -0.036508    0.057534   \n",
      "Cafe Count         0.014634        -0.008447 -0.008678  -0.017075    0.006799   \n",
      "\n",
      "                   Median Age  Household Income  Per Capita Income  Cafe Count  \n",
      "Postcode            -0.008803         -0.022921          -0.056634    0.014634  \n",
      "Starbucks Count      0.066498          0.187418           0.266557   -0.008447  \n",
      "Latitude            -0.088955          0.015296          -0.000089   -0.008678  \n",
      "Longitude           -0.108824         -0.085654          -0.036508   -0.017075  \n",
      "Population           0.204840          0.195212           0.057534    0.006799  \n",
      "Median Age           1.000000          0.539295           0.572726    0.008798  \n",
      "Household Income     0.539295          1.000000           0.836472    0.017106  \n",
      "Per Capita Income    0.572726          0.836472           1.000000    0.008564  \n",
      "Cafe Count           0.008798          0.017106           0.008564    1.000000  \n"
     ]
    }
   ],
   "source": [
    "print(starbucks_census.corr())"
   ]
  },
  {
   "cell_type": "code",
   "execution_count": 71,
   "metadata": {},
   "outputs": [],
   "source": [
    "# Use train_test_split to create training and testing data\n",
    "\n",
    "### BEGIN SOLUTION\n",
    "from sklearn.model_selection import train_test_split\n",
    "\n",
    "X_train, X_test, y_train, y_test = train_test_split(X, y, random_state=42)\n",
    "\n",
    "### END SOLUTION"
   ]
  },
  {
   "cell_type": "code",
   "execution_count": 72,
   "metadata": {},
   "outputs": [],
   "source": [
    "# Create the model using LinearRegression\n",
    "\n",
    "### BEGIN SOLUTION\n",
    "from sklearn.linear_model import LinearRegression\n",
    "model = LinearRegression()\n",
    "### END SOLUTION"
   ]
  },
  {
   "cell_type": "code",
   "execution_count": 73,
   "metadata": {},
   "outputs": [
    {
     "name": "stdout",
     "output_type": "stream",
     "text": [
      "Training Score: 0.030952142931658152\n",
      "Testing Score: 0.04799515427804524\n"
     ]
    }
   ],
   "source": [
    "# Fit the model to the training data and calculate the scores for the training and testing data\n",
    "\n",
    "### BEGIN SOLUTION\n",
    "model.fit(X_train, y_train)\n",
    "training_score = model.score(X_train, y_train)\n",
    "testing_score = model.score(X_test, y_test)\n",
    "\n",
    "### END SOLUTION \n",
    "\n",
    "print(f\"Training Score: {training_score}\")\n",
    "print(f\"Testing Score: {testing_score}\")"
   ]
  },
  {
   "cell_type": "code",
   "execution_count": 74,
   "metadata": {},
   "outputs": [
    {
     "data": {
      "text/plain": [
       "Text(0.5,1,'Residual Plot')"
      ]
     },
     "execution_count": 74,
     "metadata": {},
     "output_type": "execute_result"
    },
    {
     "data": {
      "image/png": "[encoded data removed]",
      "text/plain": [
       "<Figure size 432x288 with 1 Axes>"
      ]
     },
     "metadata": {},
     "output_type": "display_data"
    }
   ],
   "source": [
    "# Plot the Residuals for the Training and Testing data\n",
    "\n",
    "### BEGIN SOLUTION\n",
    "plt.scatter(model.predict(X_train), model.predict(X_train) - y_train, c=\"blue\", label=\"Training Data\")\n",
    "plt.scatter(model.predict(X_test), model.predict(X_test) - y_test, c=\"orange\", label=\"Testing Data\")\n",
    "plt.legend()\n",
    "plt.hlines(y=0, xmin=y.min(), xmax=y.max())\n",
    "plt.title(\"Residual Plot\")\n",
    "### END SOLUTION"
   ]
  },
  {
   "cell_type": "code",
   "execution_count": null,
   "metadata": {},
   "outputs": [],
   "source": []
  },
  {
   "cell_type": "code",
   "execution_count": null,
   "metadata": {},
   "outputs": [],
   "source": []
  }
 ],
 "metadata": {
  "kernelspec": {
   "display_name": "Python 3",
   "language": "python",
   "name": "python3"
  },
  "language_info": {
   "codemirror_mode": {
    "name": "ipython",
    "version": 3
   },
   "file_extension": ".py",
   "mimetype": "text/x-python",
   "name": "python",
   "nbconvert_exporter": "python",
   "pygments_lexer": "ipython3",
   "version": "3.6.3"
  }
 },
 "nbformat": 4,
 "nbformat_minor": 2
}
