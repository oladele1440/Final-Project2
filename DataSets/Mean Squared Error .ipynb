{
 "cells": [
  {
   "cell_type": "code",
   "execution_count": 1,
   "metadata": {},
   "outputs": [],
   "source": [
    "%matplotlib inline\n",
    "import matplotlib.pyplot as plt\n",
    "import numpy as np\n",
    "import pandas as pd"
   ]
  },
  {
   "cell_type": "code",
   "execution_count": 2,
   "metadata": {},
   "outputs": [
    {
     "data": {
      "text/html": [
       "<div>\n",
       "<style>\n",
       "    .dataframe thead tr:only-child th {\n",
       "        text-align: right;\n",
       "    }\n",
       "\n",
       "    .dataframe thead th {\n",
       "        text-align: left;\n",
       "    }\n",
       "\n",
       "    .dataframe tbody tr th {\n",
       "        vertical-align: top;\n",
       "    }\n",
       "</style>\n",
       "<table border=\"1\" class=\"dataframe\">\n",
       "  <thead>\n",
       "    <tr style=\"text-align: right;\">\n",
       "      <th></th>\n",
       "      <th>State/Province</th>\n",
       "      <th>Postcode</th>\n",
       "      <th>Starbucks Count</th>\n",
       "      <th>City</th>\n",
       "      <th>Country</th>\n",
       "      <th>Latitude</th>\n",
       "      <th>Longitude</th>\n",
       "      <th>Population</th>\n",
       "      <th>Median Age</th>\n",
       "      <th>Household Income</th>\n",
       "      <th>Per Capita Income</th>\n",
       "      <th>Cafe Count</th>\n",
       "    </tr>\n",
       "  </thead>\n",
       "  <tbody>\n",
       "    <tr>\n",
       "      <th>0</th>\n",
       "      <td>AK</td>\n",
       "      <td>99501.0</td>\n",
       "      <td>2</td>\n",
       "      <td>Anchorage</td>\n",
       "      <td>US</td>\n",
       "      <td>61.22</td>\n",
       "      <td>-149.89</td>\n",
       "      <td>17.0</td>\n",
       "      <td>38.3</td>\n",
       "      <td>54579.0</td>\n",
       "      <td>39690.0</td>\n",
       "      <td>0</td>\n",
       "    </tr>\n",
       "    <tr>\n",
       "      <th>1</th>\n",
       "      <td>AK</td>\n",
       "      <td>99502.0</td>\n",
       "      <td>4</td>\n",
       "      <td>Anchorage</td>\n",
       "      <td>US</td>\n",
       "      <td>61.18</td>\n",
       "      <td>-149.95</td>\n",
       "      <td>24.0</td>\n",
       "      <td>32.8</td>\n",
       "      <td>87250.0</td>\n",
       "      <td>39021.0</td>\n",
       "      <td>0</td>\n",
       "    </tr>\n",
       "    <tr>\n",
       "      <th>2</th>\n",
       "      <td>AK</td>\n",
       "      <td>99503.0</td>\n",
       "      <td>1</td>\n",
       "      <td>Anchorage</td>\n",
       "      <td>US</td>\n",
       "      <td>61.18</td>\n",
       "      <td>-149.88</td>\n",
       "      <td>14.0</td>\n",
       "      <td>34.0</td>\n",
       "      <td>46819.0</td>\n",
       "      <td>27693.0</td>\n",
       "      <td>0</td>\n",
       "    </tr>\n",
       "    <tr>\n",
       "      <th>3</th>\n",
       "      <td>AK</td>\n",
       "      <td>99504.0</td>\n",
       "      <td>5</td>\n",
       "      <td>Anchorage</td>\n",
       "      <td>US</td>\n",
       "      <td>61.23</td>\n",
       "      <td>-149.74</td>\n",
       "      <td>42.0</td>\n",
       "      <td>31.3</td>\n",
       "      <td>77132.0</td>\n",
       "      <td>31811.0</td>\n",
       "      <td>0</td>\n",
       "    </tr>\n",
       "    <tr>\n",
       "      <th>4</th>\n",
       "      <td>AK</td>\n",
       "      <td>99505.0</td>\n",
       "      <td>1</td>\n",
       "      <td>Fort Richardson</td>\n",
       "      <td>US</td>\n",
       "      <td>61.26</td>\n",
       "      <td>-149.68</td>\n",
       "      <td>6.0</td>\n",
       "      <td>21.6</td>\n",
       "      <td>51582.0</td>\n",
       "      <td>19267.0</td>\n",
       "      <td>0</td>\n",
       "    </tr>\n",
       "  </tbody>\n",
       "</table>\n",
       "</div>"
      ],
      "text/plain": [
       "  State/Province  Postcode  Starbucks Count             City Country  \\\n",
       "0             AK   99501.0                2        Anchorage      US   \n",
       "1             AK   99502.0                4        Anchorage      US   \n",
       "2             AK   99503.0                1        Anchorage      US   \n",
       "3             AK   99504.0                5        Anchorage      US   \n",
       "4             AK   99505.0                1  Fort Richardson      US   \n",
       "\n",
       "   Latitude  Longitude  Population  Median Age  Household Income  \\\n",
       "0     61.22    -149.89        17.0        38.3           54579.0   \n",
       "1     61.18    -149.95        24.0        32.8           87250.0   \n",
       "2     61.18    -149.88        14.0        34.0           46819.0   \n",
       "3     61.23    -149.74        42.0        31.3           77132.0   \n",
       "4     61.26    -149.68         6.0        21.6           51582.0   \n",
       "\n",
       "   Per Capita Income  Cafe Count  \n",
       "0            39690.0           0  \n",
       "1            39021.0           0  \n",
       "2            27693.0           0  \n",
       "3            31811.0           0  \n",
       "4            19267.0           0  "
      ]
     },
     "execution_count": 2,
     "metadata": {},
     "output_type": "execute_result"
    }
   ],
   "source": [
    "# Read the csv file into a pandas DataFrame\n",
    "\n",
    "starbucks_census = pd.read_csv('Datasets/starbucks_vs_cafe_count.csv')\n",
    "starbucks_census.head()"
   ]
  },
  {
   "cell_type": "code",
   "execution_count": 23,
   "metadata": {},
   "outputs": [
    {
     "name": "stdout",
     "output_type": "stream",
     "text": [
      "Shape:  (6047, 1) (6047, 1)\n"
     ]
    }
   ],
   "source": [
    "# Assign the data to X and y\n",
    "# Note: Sklearn requires a 7 x 1 array of values\n",
    "# so we use reshape to create this\n",
    "\n",
    "X = starbucks_census[\"Household Income\"].values.reshape(-1, 1)\n",
    "y = starbucks_census[\"Starbucks Count\"].values.reshape(-1, 1)\n",
    "\n",
    "print(\"Shape: \", X.shape, y.shape)"
   ]
  },
  {
   "cell_type": "code",
   "execution_count": 30,
   "metadata": {},
   "outputs": [
    {
     "data": {
      "text/plain": [
       "Text(0,0.5,'Starbucks Count')"
      ]
     },
     "execution_count": 30,
     "metadata": {},
     "output_type": "execute_result"
    },
    {
     "data": {
      "image/png": "[encoded data removed]",
      "text/plain": [
       "<Figure size 432x288 with 1 Axes>"
      ]
     },
     "metadata": {},
     "output_type": "display_data"
    }
   ],
   "source": [
    "# Plot the data to see if a linear trend exists\n",
    "\n",
    "### BEGIN SOLUTION\n",
    "plt.scatter(X, y)\n",
    "plt.xlabel(\"Household Income\")\n",
    "plt.ylabel(\"Starbucks Count\")\n",
    "### END SOLUTION"
   ]
  },
  {
   "cell_type": "code",
   "execution_count": 31,
   "metadata": {},
   "outputs": [],
   "source": [
    "# Use sklearn's `train_test_split` to split the data into training and testing\n",
    "\n",
    "from sklearn.model_selection import train_test_split\n",
    "\n",
    "### BEGIN SOLUTION\n",
    "\n",
    "X_train, X_test, y_train, y_test = train_test_split(X, y, random_state=42)\n",
    "\n",
    "### END SOLUTION"
   ]
  },
  {
   "cell_type": "code",
   "execution_count": 32,
   "metadata": {},
   "outputs": [],
   "source": [
    "# Create the model\n",
    "\n",
    "### BEGIN SOLUTION\n",
    "\n",
    "from sklearn.linear_model import LinearRegression\n",
    "\n",
    "model = LinearRegression()\n",
    "\n",
    "### END SOLUTION"
   ]
  },
  {
   "cell_type": "code",
   "execution_count": 33,
   "metadata": {},
   "outputs": [
    {
     "data": {
      "text/plain": [
       "LinearRegression(copy_X=True, fit_intercept=True, n_jobs=1, normalize=False)"
      ]
     },
     "execution_count": 33,
     "metadata": {},
     "output_type": "execute_result"
    }
   ],
   "source": [
    "# Fit the model to the trainig data. \n",
    "\n",
    "### BEGIN SOLUTION\n",
    "\n",
    "model.fit(X_train, y_train)\n",
    "\n",
    "### END SOLUTION"
   ]
  },
  {
   "cell_type": "code",
   "execution_count": 34,
   "metadata": {},
   "outputs": [
    {
     "name": "stdout",
     "output_type": "stream",
     "text": [
      "Mean Squared Error (MSE): 3.1321125676611845\n",
      "R-squared (R2 ): 0.09163444621892913\n"
     ]
    }
   ],
   "source": [
    "# Calculate the mean_squared_error and the r-squared value\n",
    "# for the testing data\n",
    "\n",
    "from sklearn.metrics import mean_squared_error, r2_score\n",
    "\n",
    "### BEGIN SOLUTION\n",
    "\n",
    "# Use our model to make predictions\n",
    "predicted = model.predict(X_test)\n",
    "\n",
    "# Score the predictions with mse and r2\n",
    "mse = mean_squared_error(y_test, predicted)\n",
    "r2 = r2_score(y_test, predicted)\n",
    "\n",
    "print(f\"Mean Squared Error (MSE): {mse}\")\n",
    "print(f\"R-squared (R2 ): {r2}\")\n",
    "\n",
    "### END SOLUTION"
   ]
  },
  {
   "cell_type": "code",
   "execution_count": 35,
   "metadata": {},
   "outputs": [
    {
     "data": {
      "text/plain": [
       "0.091634446218929133"
      ]
     },
     "execution_count": 35,
     "metadata": {},
     "output_type": "execute_result"
    }
   ],
   "source": [
    "# Call the `score` method on the model to show the r2 score\n",
    "\n",
    "### BEGIN SOLUTION\n",
    "model.score(X_test, y_test)\n",
    "### END SOLUTION"
   ]
  },
  {
   "cell_type": "code",
   "execution_count": null,
   "metadata": {},
   "outputs": [],
   "source": []
  },
  {
   "cell_type": "code",
   "execution_count": null,
   "metadata": {},
   "outputs": [],
   "source": []
  }
 ],
 "metadata": {
  "kernelspec": {
   "display_name": "Python 3",
   "language": "python",
   "name": "python3"
  },
  "language_info": {
   "codemirror_mode": {
    "name": "ipython",
    "version": 3
   },
   "file_extension": ".py",
   "mimetype": "text/x-python",
   "name": "python",
   "nbconvert_exporter": "python",
   "pygments_lexer": "ipython3",
   "version": "3.6.3"
  }
 },
 "nbformat": 4,
 "nbformat_minor": 2
}
